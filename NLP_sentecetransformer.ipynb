{
 "cells": [
  {
   "cell_type": "code",
   "execution_count": 2,
   "metadata": {},
   "outputs": [
    {
     "name": "stdout",
     "output_type": "stream",
     "text": [
      "WARNING:tensorflow:From c:\\Users\\dbda.STUDENTSDC\\AppData\\Local\\anaconda3\\envs\\dung\\lib\\site-packages\\tf_keras\\src\\losses.py:2976: The name tf.losses.sparse_softmax_cross_entropy is deprecated. Please use tf.compat.v1.losses.sparse_softmax_cross_entropy instead.\n",
      "\n"
     ]
    }
   ],
   "source": [
    "import pandas as pd\n",
    "from sklearn.model_selection import train_test_split\n",
    "import numpy as np\n",
    "from sklearn.metrics import accuracy_score\n",
    "from sklearn.ensemble import RandomForestClassifier\n",
    "from tqdm import tqdm\n",
    "from sentence_transformers import SentenceTransformer"
   ]
  },
  {
   "cell_type": "code",
   "execution_count": null,
   "metadata": {},
   "outputs": [
    {
     "name": "stdout",
     "output_type": "stream",
     "text": [
      "WARNING:tensorflow:From c:\\Users\\dbda.STUDENTSDC\\AppData\\Local\\anaconda3\\envs\\dung\\lib\\site-packages\\tf_keras\\src\\losses.py:2976: The name tf.losses.sparse_softmax_cross_entropy is deprecated. Please use tf.compat.v1.losses.sparse_softmax_cross_entropy instead.\n",
      "\n"
     ]
    }
   ],
   "source": [
    "\n",
    "\n",
    "\n",
    "model = SentenceTransformer(\"BAAI/bge-small-en-v1.5\")"
   ]
  },
  {
   "cell_type": "markdown",
   "metadata": {},
   "source": [
    "# Spam Classification"
   ]
  },
  {
   "cell_type": "code",
   "execution_count": 5,
   "metadata": {},
   "outputs": [
    {
     "data": {
      "text/html": [
       "<div>\n",
       "<style scoped>\n",
       "    .dataframe tbody tr th:only-of-type {\n",
       "        vertical-align: middle;\n",
       "    }\n",
       "\n",
       "    .dataframe tbody tr th {\n",
       "        vertical-align: top;\n",
       "    }\n",
       "\n",
       "    .dataframe thead th {\n",
       "        text-align: right;\n",
       "    }\n",
       "</style>\n",
       "<table border=\"1\" class=\"dataframe\">\n",
       "  <thead>\n",
       "    <tr style=\"text-align: right;\">\n",
       "      <th></th>\n",
       "      <th>Category</th>\n",
       "      <th>Message</th>\n",
       "    </tr>\n",
       "  </thead>\n",
       "  <tbody>\n",
       "    <tr>\n",
       "      <th>0</th>\n",
       "      <td>ham</td>\n",
       "      <td>Go until jurong point, crazy.. Available only ...</td>\n",
       "    </tr>\n",
       "    <tr>\n",
       "      <th>1</th>\n",
       "      <td>ham</td>\n",
       "      <td>Ok lar... Joking wif u oni...</td>\n",
       "    </tr>\n",
       "    <tr>\n",
       "      <th>2</th>\n",
       "      <td>spam</td>\n",
       "      <td>Free entry in 2 a wkly comp to win FA Cup fina...</td>\n",
       "    </tr>\n",
       "    <tr>\n",
       "      <th>3</th>\n",
       "      <td>ham</td>\n",
       "      <td>U dun say so early hor... U c already then say...</td>\n",
       "    </tr>\n",
       "    <tr>\n",
       "      <th>4</th>\n",
       "      <td>ham</td>\n",
       "      <td>Nah I don't think he goes to usf, he lives aro...</td>\n",
       "    </tr>\n",
       "  </tbody>\n",
       "</table>\n",
       "</div>"
      ],
      "text/plain": [
       "  Category                                            Message\n",
       "0      ham  Go until jurong point, crazy.. Available only ...\n",
       "1      ham                      Ok lar... Joking wif u oni...\n",
       "2     spam  Free entry in 2 a wkly comp to win FA Cup fina...\n",
       "3      ham  U dun say so early hor... U c already then say...\n",
       "4      ham  Nah I don't think he goes to usf, he lives aro..."
      ]
     },
     "execution_count": 5,
     "metadata": {},
     "output_type": "execute_result"
    }
   ],
   "source": [
    "df = pd.read_csv('./Cases/Spam Classification/SPAM Data.csv')\n",
    "df.head()"
   ]
  },
  {
   "cell_type": "code",
   "execution_count": 6,
   "metadata": {},
   "outputs": [
    {
     "name": "stderr",
     "output_type": "stream",
     "text": [
      "100%|██████████| 5572/5572 [02:40<00:00, 34.65it/s]\n"
     ]
    }
   ],
   "source": [
    "out_embs = []\n",
    "for i in tqdm(range(len(df))):\n",
    "    out_embs.append(model.encode(df['Message'][i]))"
   ]
  },
  {
   "cell_type": "code",
   "execution_count": 7,
   "metadata": {},
   "outputs": [
    {
     "data": {
      "text/plain": [
       "0.968609865470852"
      ]
     },
     "execution_count": 7,
     "metadata": {},
     "output_type": "execute_result"
    }
   ],
   "source": [
    "rf = RandomForestClassifier()\n",
    "X = np.array(out_embs)\n",
    "y = np.array(df['Category'])\n",
    "X_train, X_test, y_train, y_test = train_test_split(X, y, test_size=0.2)\n",
    "rf.fit(X_train, y_train)\n",
    "y_pred = rf.predict(X_test)\n",
    "accuracy_score(y_test, y_pred)"
   ]
  },
  {
   "cell_type": "code",
   "execution_count": 8,
   "metadata": {},
   "outputs": [
    {
     "name": "stdout",
     "output_type": "stream",
     "text": [
      "spam\n"
     ]
    }
   ],
   "source": [
    "# Inferencing\n",
    "def predict_spam(text):\n",
    "    emb = model.encode(text)\n",
    "    return rf.predict([emb])[0]\n",
    "\n",
    "print(predict_spam(\"Congratulations! You have won a free ticket to the Bahamas. Text 'WIN' to 12345 to claim your prize!\"))"
   ]
  },
  {
   "cell_type": "markdown",
   "metadata": {},
   "source": [
    "# Ecommerce Text Classification"
   ]
  },
  {
   "cell_type": "code",
   "execution_count": 10,
   "metadata": {},
   "outputs": [
    {
     "data": {
      "text/html": [
       "<div>\n",
       "<style scoped>\n",
       "    .dataframe tbody tr th:only-of-type {\n",
       "        vertical-align: middle;\n",
       "    }\n",
       "\n",
       "    .dataframe tbody tr th {\n",
       "        vertical-align: top;\n",
       "    }\n",
       "\n",
       "    .dataframe thead th {\n",
       "        text-align: right;\n",
       "    }\n",
       "</style>\n",
       "<table border=\"1\" class=\"dataframe\">\n",
       "  <thead>\n",
       "    <tr style=\"text-align: right;\">\n",
       "      <th></th>\n",
       "      <th>0</th>\n",
       "      <th>1</th>\n",
       "    </tr>\n",
       "  </thead>\n",
       "  <tbody>\n",
       "    <tr>\n",
       "      <th>0</th>\n",
       "      <td>Household</td>\n",
       "      <td>Paper Plane Design Framed Wall Hanging Motivat...</td>\n",
       "    </tr>\n",
       "    <tr>\n",
       "      <th>1</th>\n",
       "      <td>Household</td>\n",
       "      <td>SAF 'Floral' Framed Painting (Wood, 30 inch x ...</td>\n",
       "    </tr>\n",
       "    <tr>\n",
       "      <th>2</th>\n",
       "      <td>Household</td>\n",
       "      <td>SAF 'UV Textured Modern Art Print Framed' Pain...</td>\n",
       "    </tr>\n",
       "    <tr>\n",
       "      <th>3</th>\n",
       "      <td>Household</td>\n",
       "      <td>SAF Flower Print Framed Painting (Synthetic, 1...</td>\n",
       "    </tr>\n",
       "    <tr>\n",
       "      <th>4</th>\n",
       "      <td>Household</td>\n",
       "      <td>Incredible Gifts India Wooden Happy Birthday U...</td>\n",
       "    </tr>\n",
       "  </tbody>\n",
       "</table>\n",
       "</div>"
      ],
      "text/plain": [
       "           0                                                  1\n",
       "0  Household  Paper Plane Design Framed Wall Hanging Motivat...\n",
       "1  Household  SAF 'Floral' Framed Painting (Wood, 30 inch x ...\n",
       "2  Household  SAF 'UV Textured Modern Art Print Framed' Pain...\n",
       "3  Household  SAF Flower Print Framed Painting (Synthetic, 1...\n",
       "4  Household  Incredible Gifts India Wooden Happy Birthday U..."
      ]
     },
     "execution_count": 10,
     "metadata": {},
     "output_type": "execute_result"
    }
   ],
   "source": [
    "# https://www.kaggle.com/datasets/saurabhshahane/ecommerce-text-classification\n",
    "\n",
    "df_ss = pd.read_csv(\"./ecommerceDataset.csv\", header=None)\n",
    "df_ss.head()"
   ]
  },
  {
   "cell_type": "code",
   "execution_count": 11,
   "metadata": {},
   "outputs": [
    {
     "name": "stderr",
     "output_type": "stream",
     "text": [
      "100%|██████████| 50425/50425 [21:32<00:00, 39.01it/s]\n"
     ]
    }
   ],
   "source": [
    "out_embs = []\n",
    "for i in tqdm(range(len(df_ss))):\n",
    "    out_embs.append(model.encode(df_ss[0][i]))"
   ]
  },
  {
   "cell_type": "code",
   "execution_count": 12,
   "metadata": {},
   "outputs": [],
   "source": [
    "df_embed_ecomm = pd.DataFrame(out_embs, index=df_ss.index)\n",
    "df_embed_ecomm.to_csv(\"./ecomm_embed.csv\",\n",
    "                      index=True)"
   ]
  },
  {
   "cell_type": "code",
   "execution_count": 15,
   "metadata": {},
   "outputs": [
    {
     "data": {
      "text/plain": [
       "((11820, 384), (10621, 384))"
      ]
     },
     "execution_count": 15,
     "metadata": {},
     "output_type": "execute_result"
    }
   ],
   "source": [
    "df_books_embed = df_embed_ecomm[df_ss[0]==\"Books\"]\n",
    "df_elect_embed = df_embed_ecomm[df_ss[0]==\"Electronics\"]\n",
    "df_books_embed.shape, df_elect_embed.shape"
   ]
  },
  {
   "cell_type": "code",
   "execution_count": 16,
   "metadata": {},
   "outputs": [
    {
     "data": {
      "text/plain": [
       "(11820, 11820)"
      ]
     },
     "execution_count": 16,
     "metadata": {},
     "output_type": "execute_result"
    }
   ],
   "source": [
    "from sklearn.metrics.pairwise import cosine_similarity\n",
    "sims_books = cosine_similarity(df_books_embed)\n",
    "sims_books.shape"
   ]
  },
  {
   "cell_type": "code",
   "execution_count": 17,
   "metadata": {},
   "outputs": [
    {
     "data": {
      "text/plain": [
       "7775    1.0\n",
       "7755    1.0\n",
       "7756    1.0\n",
       "7757    1.0\n",
       "7758    1.0\n",
       "Name: 1000, dtype: float32"
      ]
     },
     "execution_count": 17,
     "metadata": {},
     "output_type": "execute_result"
    }
   ],
   "source": [
    "df_sims_books = pd.DataFrame(sims_books)\n",
    "df_sims_books[1000].sort_values(ascending=False)[1:6]"
   ]
  },
  {
   "cell_type": "code",
   "execution_count": 18,
   "metadata": {},
   "outputs": [
    {
     "data": {
      "text/plain": [
       "array(['Household',\n",
       "       'Seapora 56819 Glass Canopy, 36\" x 12\" All products are imported from the USA. All electronic products must be used with a step down/up converter for Indian voltage compatibility.'],\n",
       "      dtype=object)"
      ]
     },
     "execution_count": 18,
     "metadata": {},
     "output_type": "execute_result"
    }
   ],
   "source": [
    "df_ss.iloc[1000].values"
   ]
  },
  {
   "cell_type": "code",
   "execution_count": 19,
   "metadata": {},
   "outputs": [
    {
     "data": {
      "text/plain": [
       "array([['Household',\n",
       "        'WICKER HUB Wicker Outdoor Patio Sofa Set (Black, Red) Ms frame 18 gauge crca pipe,hdpe cane,all weather,indoor or outdoor were we want we can used.'],\n",
       "       ['Household',\n",
       "        'Workspace Interio Modern Chair for Cafe Lounge Office Reception Garden with Wooden Legs (Set of 2) - Beige Size:Set of 2                                                                                \\xa0|\\xa0                           Color:Beige   Color-OffwhiteWHY THE AZAZO CHAIR IS THE BETTER CHOICE IN FURNITURE?.  - This beautiful chair is sure to be the envy of all your friends and family. - The chair base is best in class and work in harmony.  - LONGER LIFE MATERIAL – The Material used in this chair is long lasting and hard.  - STYLISH AND ERGONOMIC DESIGN – The design of the chair is very stylish and attractive.  - SECURE COMFORT FIT – If you set on this chair you will feel more comfortable.  - PREMIUM PACKAGING AND PREMIUM QUALITY - The chair is in premium quality and in premium package.  Buyers Trust AZAZO PRODUCTS Brand which is Dedicated to the Highest Quality Products and Fanatical Customer Support. Your COMPLETE SATISFACTION is our primary objective. This chair adds the perfect modern classic touch to any dinning space. Sturdy, easy to clean and lovely to behold, these chairs elevate a meal to whole new levels of enjoyment.'],\n",
       "       ['Household',\n",
       "        'KS Trader Chairs Office Arm Chair Size:Standard                                                                                \\xa0|\\xa0                           Color:Black   With great power comes great responsibility and that sometimes could mean a long and tiring day. In such cases, KS Trader presents the perfect solution! KS Trader Executive office chair is an ergonomically designed chair which is sure to provide ample support to you back and shoulders. Built on a strong frame, this office chair has heavy padding with an extra layer of foam. The soft cushioned seat, and sturdy arms come together to create a feeling of comfort that you reluctant to get off your chair. A pneumatic height adjustment system, a torsion knob, and tilt lock provide a range of positions that you can shift to if you have been sitting in the same position for an extended period of time. Durable upholstery completes the look, creating a chair which is not only comfortable but is also a visual treat. KS Trader ensures that this executive chair will reach your doorstep. So go ahead and get KS Trader Executive steel office chair which will make you look forward to all those extra hours at work! The chair is easy to maintain | A Pneumatic lift, Torsion knob and ensure smooth adjustment. The chair has extra padding on the seat back and armrests for extra comfort | This trendy chair is created from strong high quality material and leatherette/fabric which is suitable for daily use. The color of the chair enables the chair to fit in easily with your office or home decor & looks very elegant. Wheels: 50mm wide single colored wheels 40 kg load bearing capacity per wheel, made of acrylonitrile butadiene styrene (ABS) | Base: 26 inch wide \"\"\"\"Spider Base\"\"\"\" duly contoured profile in 200 kg load bearing capacity. The product requires basic assembly and comes with assembly instructions.']],\n",
       "      dtype=object)"
      ]
     },
     "execution_count": 19,
     "metadata": {},
     "output_type": "execute_result"
    }
   ],
   "source": [
    "df_ss.iloc[[989,2579,2552 ]].values"
   ]
  },
  {
   "cell_type": "markdown",
   "metadata": {},
   "source": [
    "# Netflix popular movies dataset"
   ]
  },
  {
   "cell_type": "markdown",
   "metadata": {},
   "source": [
    "Netflix popular movies dataset\n",
    "https://www.kaggle.com/datasets/narayan63/netflix-popular-movies-dataset"
   ]
  },
  {
   "cell_type": "code",
   "execution_count": 21,
   "metadata": {},
   "outputs": [
    {
     "data": {
      "text/html": [
       "<div>\n",
       "<style scoped>\n",
       "    .dataframe tbody tr th:only-of-type {\n",
       "        vertical-align: middle;\n",
       "    }\n",
       "\n",
       "    .dataframe tbody tr th {\n",
       "        vertical-align: top;\n",
       "    }\n",
       "\n",
       "    .dataframe thead th {\n",
       "        text-align: right;\n",
       "    }\n",
       "</style>\n",
       "<table border=\"1\" class=\"dataframe\">\n",
       "  <thead>\n",
       "    <tr style=\"text-align: right;\">\n",
       "      <th></th>\n",
       "      <th>0</th>\n",
       "      <th>1</th>\n",
       "      <th>2</th>\n",
       "      <th>3</th>\n",
       "      <th>4</th>\n",
       "      <th>5</th>\n",
       "      <th>6</th>\n",
       "      <th>7</th>\n",
       "      <th>8</th>\n",
       "      <th>9</th>\n",
       "      <th>...</th>\n",
       "      <th>11810</th>\n",
       "      <th>11811</th>\n",
       "      <th>11812</th>\n",
       "      <th>11813</th>\n",
       "      <th>11814</th>\n",
       "      <th>11815</th>\n",
       "      <th>11816</th>\n",
       "      <th>11817</th>\n",
       "      <th>11818</th>\n",
       "      <th>11819</th>\n",
       "    </tr>\n",
       "  </thead>\n",
       "  <tbody>\n",
       "    <tr>\n",
       "      <th>0</th>\n",
       "      <td>1.0</td>\n",
       "      <td>1.0</td>\n",
       "      <td>1.0</td>\n",
       "      <td>1.0</td>\n",
       "      <td>1.0</td>\n",
       "      <td>1.0</td>\n",
       "      <td>1.0</td>\n",
       "      <td>1.0</td>\n",
       "      <td>1.0</td>\n",
       "      <td>1.0</td>\n",
       "      <td>...</td>\n",
       "      <td>1.0</td>\n",
       "      <td>1.0</td>\n",
       "      <td>1.0</td>\n",
       "      <td>1.0</td>\n",
       "      <td>1.0</td>\n",
       "      <td>1.0</td>\n",
       "      <td>1.0</td>\n",
       "      <td>1.0</td>\n",
       "      <td>1.0</td>\n",
       "      <td>1.0</td>\n",
       "    </tr>\n",
       "    <tr>\n",
       "      <th>1</th>\n",
       "      <td>1.0</td>\n",
       "      <td>1.0</td>\n",
       "      <td>1.0</td>\n",
       "      <td>1.0</td>\n",
       "      <td>1.0</td>\n",
       "      <td>1.0</td>\n",
       "      <td>1.0</td>\n",
       "      <td>1.0</td>\n",
       "      <td>1.0</td>\n",
       "      <td>1.0</td>\n",
       "      <td>...</td>\n",
       "      <td>1.0</td>\n",
       "      <td>1.0</td>\n",
       "      <td>1.0</td>\n",
       "      <td>1.0</td>\n",
       "      <td>1.0</td>\n",
       "      <td>1.0</td>\n",
       "      <td>1.0</td>\n",
       "      <td>1.0</td>\n",
       "      <td>1.0</td>\n",
       "      <td>1.0</td>\n",
       "    </tr>\n",
       "    <tr>\n",
       "      <th>2</th>\n",
       "      <td>1.0</td>\n",
       "      <td>1.0</td>\n",
       "      <td>1.0</td>\n",
       "      <td>1.0</td>\n",
       "      <td>1.0</td>\n",
       "      <td>1.0</td>\n",
       "      <td>1.0</td>\n",
       "      <td>1.0</td>\n",
       "      <td>1.0</td>\n",
       "      <td>1.0</td>\n",
       "      <td>...</td>\n",
       "      <td>1.0</td>\n",
       "      <td>1.0</td>\n",
       "      <td>1.0</td>\n",
       "      <td>1.0</td>\n",
       "      <td>1.0</td>\n",
       "      <td>1.0</td>\n",
       "      <td>1.0</td>\n",
       "      <td>1.0</td>\n",
       "      <td>1.0</td>\n",
       "      <td>1.0</td>\n",
       "    </tr>\n",
       "    <tr>\n",
       "      <th>3</th>\n",
       "      <td>1.0</td>\n",
       "      <td>1.0</td>\n",
       "      <td>1.0</td>\n",
       "      <td>1.0</td>\n",
       "      <td>1.0</td>\n",
       "      <td>1.0</td>\n",
       "      <td>1.0</td>\n",
       "      <td>1.0</td>\n",
       "      <td>1.0</td>\n",
       "      <td>1.0</td>\n",
       "      <td>...</td>\n",
       "      <td>1.0</td>\n",
       "      <td>1.0</td>\n",
       "      <td>1.0</td>\n",
       "      <td>1.0</td>\n",
       "      <td>1.0</td>\n",
       "      <td>1.0</td>\n",
       "      <td>1.0</td>\n",
       "      <td>1.0</td>\n",
       "      <td>1.0</td>\n",
       "      <td>1.0</td>\n",
       "    </tr>\n",
       "    <tr>\n",
       "      <th>4</th>\n",
       "      <td>1.0</td>\n",
       "      <td>1.0</td>\n",
       "      <td>1.0</td>\n",
       "      <td>1.0</td>\n",
       "      <td>1.0</td>\n",
       "      <td>1.0</td>\n",
       "      <td>1.0</td>\n",
       "      <td>1.0</td>\n",
       "      <td>1.0</td>\n",
       "      <td>1.0</td>\n",
       "      <td>...</td>\n",
       "      <td>1.0</td>\n",
       "      <td>1.0</td>\n",
       "      <td>1.0</td>\n",
       "      <td>1.0</td>\n",
       "      <td>1.0</td>\n",
       "      <td>1.0</td>\n",
       "      <td>1.0</td>\n",
       "      <td>1.0</td>\n",
       "      <td>1.0</td>\n",
       "      <td>1.0</td>\n",
       "    </tr>\n",
       "    <tr>\n",
       "      <th>...</th>\n",
       "      <td>...</td>\n",
       "      <td>...</td>\n",
       "      <td>...</td>\n",
       "      <td>...</td>\n",
       "      <td>...</td>\n",
       "      <td>...</td>\n",
       "      <td>...</td>\n",
       "      <td>...</td>\n",
       "      <td>...</td>\n",
       "      <td>...</td>\n",
       "      <td>...</td>\n",
       "      <td>...</td>\n",
       "      <td>...</td>\n",
       "      <td>...</td>\n",
       "      <td>...</td>\n",
       "      <td>...</td>\n",
       "      <td>...</td>\n",
       "      <td>...</td>\n",
       "      <td>...</td>\n",
       "      <td>...</td>\n",
       "      <td>...</td>\n",
       "    </tr>\n",
       "    <tr>\n",
       "      <th>11815</th>\n",
       "      <td>1.0</td>\n",
       "      <td>1.0</td>\n",
       "      <td>1.0</td>\n",
       "      <td>1.0</td>\n",
       "      <td>1.0</td>\n",
       "      <td>1.0</td>\n",
       "      <td>1.0</td>\n",
       "      <td>1.0</td>\n",
       "      <td>1.0</td>\n",
       "      <td>1.0</td>\n",
       "      <td>...</td>\n",
       "      <td>1.0</td>\n",
       "      <td>1.0</td>\n",
       "      <td>1.0</td>\n",
       "      <td>1.0</td>\n",
       "      <td>1.0</td>\n",
       "      <td>1.0</td>\n",
       "      <td>1.0</td>\n",
       "      <td>1.0</td>\n",
       "      <td>1.0</td>\n",
       "      <td>1.0</td>\n",
       "    </tr>\n",
       "    <tr>\n",
       "      <th>11816</th>\n",
       "      <td>1.0</td>\n",
       "      <td>1.0</td>\n",
       "      <td>1.0</td>\n",
       "      <td>1.0</td>\n",
       "      <td>1.0</td>\n",
       "      <td>1.0</td>\n",
       "      <td>1.0</td>\n",
       "      <td>1.0</td>\n",
       "      <td>1.0</td>\n",
       "      <td>1.0</td>\n",
       "      <td>...</td>\n",
       "      <td>1.0</td>\n",
       "      <td>1.0</td>\n",
       "      <td>1.0</td>\n",
       "      <td>1.0</td>\n",
       "      <td>1.0</td>\n",
       "      <td>1.0</td>\n",
       "      <td>1.0</td>\n",
       "      <td>1.0</td>\n",
       "      <td>1.0</td>\n",
       "      <td>1.0</td>\n",
       "    </tr>\n",
       "    <tr>\n",
       "      <th>11817</th>\n",
       "      <td>1.0</td>\n",
       "      <td>1.0</td>\n",
       "      <td>1.0</td>\n",
       "      <td>1.0</td>\n",
       "      <td>1.0</td>\n",
       "      <td>1.0</td>\n",
       "      <td>1.0</td>\n",
       "      <td>1.0</td>\n",
       "      <td>1.0</td>\n",
       "      <td>1.0</td>\n",
       "      <td>...</td>\n",
       "      <td>1.0</td>\n",
       "      <td>1.0</td>\n",
       "      <td>1.0</td>\n",
       "      <td>1.0</td>\n",
       "      <td>1.0</td>\n",
       "      <td>1.0</td>\n",
       "      <td>1.0</td>\n",
       "      <td>1.0</td>\n",
       "      <td>1.0</td>\n",
       "      <td>1.0</td>\n",
       "    </tr>\n",
       "    <tr>\n",
       "      <th>11818</th>\n",
       "      <td>1.0</td>\n",
       "      <td>1.0</td>\n",
       "      <td>1.0</td>\n",
       "      <td>1.0</td>\n",
       "      <td>1.0</td>\n",
       "      <td>1.0</td>\n",
       "      <td>1.0</td>\n",
       "      <td>1.0</td>\n",
       "      <td>1.0</td>\n",
       "      <td>1.0</td>\n",
       "      <td>...</td>\n",
       "      <td>1.0</td>\n",
       "      <td>1.0</td>\n",
       "      <td>1.0</td>\n",
       "      <td>1.0</td>\n",
       "      <td>1.0</td>\n",
       "      <td>1.0</td>\n",
       "      <td>1.0</td>\n",
       "      <td>1.0</td>\n",
       "      <td>1.0</td>\n",
       "      <td>1.0</td>\n",
       "    </tr>\n",
       "    <tr>\n",
       "      <th>11819</th>\n",
       "      <td>1.0</td>\n",
       "      <td>1.0</td>\n",
       "      <td>1.0</td>\n",
       "      <td>1.0</td>\n",
       "      <td>1.0</td>\n",
       "      <td>1.0</td>\n",
       "      <td>1.0</td>\n",
       "      <td>1.0</td>\n",
       "      <td>1.0</td>\n",
       "      <td>1.0</td>\n",
       "      <td>...</td>\n",
       "      <td>1.0</td>\n",
       "      <td>1.0</td>\n",
       "      <td>1.0</td>\n",
       "      <td>1.0</td>\n",
       "      <td>1.0</td>\n",
       "      <td>1.0</td>\n",
       "      <td>1.0</td>\n",
       "      <td>1.0</td>\n",
       "      <td>1.0</td>\n",
       "      <td>1.0</td>\n",
       "    </tr>\n",
       "  </tbody>\n",
       "</table>\n",
       "<p>11820 rows × 11820 columns</p>\n",
       "</div>"
      ],
      "text/plain": [
       "       0      1      2      3      4      5      6      7      8      9      \\\n",
       "0        1.0    1.0    1.0    1.0    1.0    1.0    1.0    1.0    1.0    1.0   \n",
       "1        1.0    1.0    1.0    1.0    1.0    1.0    1.0    1.0    1.0    1.0   \n",
       "2        1.0    1.0    1.0    1.0    1.0    1.0    1.0    1.0    1.0    1.0   \n",
       "3        1.0    1.0    1.0    1.0    1.0    1.0    1.0    1.0    1.0    1.0   \n",
       "4        1.0    1.0    1.0    1.0    1.0    1.0    1.0    1.0    1.0    1.0   \n",
       "...      ...    ...    ...    ...    ...    ...    ...    ...    ...    ...   \n",
       "11815    1.0    1.0    1.0    1.0    1.0    1.0    1.0    1.0    1.0    1.0   \n",
       "11816    1.0    1.0    1.0    1.0    1.0    1.0    1.0    1.0    1.0    1.0   \n",
       "11817    1.0    1.0    1.0    1.0    1.0    1.0    1.0    1.0    1.0    1.0   \n",
       "11818    1.0    1.0    1.0    1.0    1.0    1.0    1.0    1.0    1.0    1.0   \n",
       "11819    1.0    1.0    1.0    1.0    1.0    1.0    1.0    1.0    1.0    1.0   \n",
       "\n",
       "       ...  11810  11811  11812  11813  11814  11815  11816  11817  11818  \\\n",
       "0      ...    1.0    1.0    1.0    1.0    1.0    1.0    1.0    1.0    1.0   \n",
       "1      ...    1.0    1.0    1.0    1.0    1.0    1.0    1.0    1.0    1.0   \n",
       "2      ...    1.0    1.0    1.0    1.0    1.0    1.0    1.0    1.0    1.0   \n",
       "3      ...    1.0    1.0    1.0    1.0    1.0    1.0    1.0    1.0    1.0   \n",
       "4      ...    1.0    1.0    1.0    1.0    1.0    1.0    1.0    1.0    1.0   \n",
       "...    ...    ...    ...    ...    ...    ...    ...    ...    ...    ...   \n",
       "11815  ...    1.0    1.0    1.0    1.0    1.0    1.0    1.0    1.0    1.0   \n",
       "11816  ...    1.0    1.0    1.0    1.0    1.0    1.0    1.0    1.0    1.0   \n",
       "11817  ...    1.0    1.0    1.0    1.0    1.0    1.0    1.0    1.0    1.0   \n",
       "11818  ...    1.0    1.0    1.0    1.0    1.0    1.0    1.0    1.0    1.0   \n",
       "11819  ...    1.0    1.0    1.0    1.0    1.0    1.0    1.0    1.0    1.0   \n",
       "\n",
       "       11819  \n",
       "0        1.0  \n",
       "1        1.0  \n",
       "2        1.0  \n",
       "3        1.0  \n",
       "4        1.0  \n",
       "...      ...  \n",
       "11815    1.0  \n",
       "11816    1.0  \n",
       "11817    1.0  \n",
       "11818    1.0  \n",
       "11819    1.0  \n",
       "\n",
       "[11820 rows x 11820 columns]"
      ]
     },
     "execution_count": 21,
     "metadata": {},
     "output_type": "execute_result"
    }
   ],
   "source": [
    "df_sims_books"
   ]
  },
  {
   "cell_type": "code",
   "execution_count": 3,
   "metadata": {},
   "outputs": [
    {
     "data": {
      "text/html": [
       "<div>\n",
       "<style scoped>\n",
       "    .dataframe tbody tr th:only-of-type {\n",
       "        vertical-align: middle;\n",
       "    }\n",
       "\n",
       "    .dataframe tbody tr th {\n",
       "        vertical-align: top;\n",
       "    }\n",
       "\n",
       "    .dataframe thead th {\n",
       "        text-align: right;\n",
       "    }\n",
       "</style>\n",
       "<table border=\"1\" class=\"dataframe\">\n",
       "  <thead>\n",
       "    <tr style=\"text-align: right;\">\n",
       "      <th></th>\n",
       "      <th>title</th>\n",
       "      <th>year</th>\n",
       "      <th>certificate</th>\n",
       "      <th>duration</th>\n",
       "      <th>genre</th>\n",
       "      <th>rating</th>\n",
       "      <th>description</th>\n",
       "      <th>stars</th>\n",
       "      <th>votes</th>\n",
       "    </tr>\n",
       "  </thead>\n",
       "  <tbody>\n",
       "    <tr>\n",
       "      <th>0</th>\n",
       "      <td>Cobra Kai</td>\n",
       "      <td>(2018– )</td>\n",
       "      <td>TV-14</td>\n",
       "      <td>30 min</td>\n",
       "      <td>Action, Comedy, Drama</td>\n",
       "      <td>8.5</td>\n",
       "      <td>Decades after their 1984 All Valley Karate Tou...</td>\n",
       "      <td>['Ralph Macchio, ', 'William Zabka, ', 'Courtn...</td>\n",
       "      <td>177,031</td>\n",
       "    </tr>\n",
       "    <tr>\n",
       "      <th>1</th>\n",
       "      <td>The Crown</td>\n",
       "      <td>(2016– )</td>\n",
       "      <td>TV-MA</td>\n",
       "      <td>58 min</td>\n",
       "      <td>Biography, Drama, History</td>\n",
       "      <td>8.7</td>\n",
       "      <td>Follows the political rivalries and romance of...</td>\n",
       "      <td>['Claire Foy, ', 'Olivia Colman, ', 'Imelda St...</td>\n",
       "      <td>199,885</td>\n",
       "    </tr>\n",
       "    <tr>\n",
       "      <th>2</th>\n",
       "      <td>Better Call Saul</td>\n",
       "      <td>(2015–2022)</td>\n",
       "      <td>TV-MA</td>\n",
       "      <td>46 min</td>\n",
       "      <td>Crime, Drama</td>\n",
       "      <td>8.9</td>\n",
       "      <td>The trials and tribulations of criminal lawyer...</td>\n",
       "      <td>['Bob Odenkirk, ', 'Rhea Seehorn, ', 'Jonathan...</td>\n",
       "      <td>501,384</td>\n",
       "    </tr>\n",
       "    <tr>\n",
       "      <th>3</th>\n",
       "      <td>Devil in Ohio</td>\n",
       "      <td>(2022)</td>\n",
       "      <td>TV-MA</td>\n",
       "      <td>356 min</td>\n",
       "      <td>Drama, Horror, Mystery</td>\n",
       "      <td>5.9</td>\n",
       "      <td>When a psychiatrist shelters a mysterious cult...</td>\n",
       "      <td>['Emily Deschanel, ', 'Sam Jaeger, ', 'Gerardo...</td>\n",
       "      <td>9,773</td>\n",
       "    </tr>\n",
       "    <tr>\n",
       "      <th>4</th>\n",
       "      <td>Cyberpunk: Edgerunners</td>\n",
       "      <td>(2022– )</td>\n",
       "      <td>TV-MA</td>\n",
       "      <td>24 min</td>\n",
       "      <td>Animation, Action, Adventure</td>\n",
       "      <td>8.6</td>\n",
       "      <td>A Street Kid trying to survive in a technology...</td>\n",
       "      <td>['Zach Aguilar, ', 'Kenichiro Ohashi, ', 'Emi ...</td>\n",
       "      <td>15,413</td>\n",
       "    </tr>\n",
       "  </tbody>\n",
       "</table>\n",
       "</div>"
      ],
      "text/plain": [
       "                    title         year certificate duration  \\\n",
       "0               Cobra Kai     (2018– )       TV-14   30 min   \n",
       "1               The Crown     (2016– )       TV-MA   58 min   \n",
       "2        Better Call Saul  (2015–2022)       TV-MA   46 min   \n",
       "3           Devil in Ohio       (2022)       TV-MA  356 min   \n",
       "4  Cyberpunk: Edgerunners     (2022– )       TV-MA   24 min   \n",
       "\n",
       "                          genre  rating  \\\n",
       "0         Action, Comedy, Drama     8.5   \n",
       "1     Biography, Drama, History     8.7   \n",
       "2                  Crime, Drama     8.9   \n",
       "3        Drama, Horror, Mystery     5.9   \n",
       "4  Animation, Action, Adventure     8.6   \n",
       "\n",
       "                                         description  \\\n",
       "0  Decades after their 1984 All Valley Karate Tou...   \n",
       "1  Follows the political rivalries and romance of...   \n",
       "2  The trials and tribulations of criminal lawyer...   \n",
       "3  When a psychiatrist shelters a mysterious cult...   \n",
       "4  A Street Kid trying to survive in a technology...   \n",
       "\n",
       "                                               stars    votes  \n",
       "0  ['Ralph Macchio, ', 'William Zabka, ', 'Courtn...  177,031  \n",
       "1  ['Claire Foy, ', 'Olivia Colman, ', 'Imelda St...  199,885  \n",
       "2  ['Bob Odenkirk, ', 'Rhea Seehorn, ', 'Jonathan...  501,384  \n",
       "3  ['Emily Deschanel, ', 'Sam Jaeger, ', 'Gerardo...    9,773  \n",
       "4  ['Zach Aguilar, ', 'Kenichiro Ohashi, ', 'Emi ...   15,413  "
      ]
     },
     "execution_count": 3,
     "metadata": {},
     "output_type": "execute_result"
    }
   ],
   "source": [
    "df_movie = pd.read_csv(\"./n_movies.csv\")\n",
    "df_movie.head()"
   ]
  },
  {
   "cell_type": "code",
   "execution_count": 23,
   "metadata": {},
   "outputs": [
    {
     "name": "stderr",
     "output_type": "stream",
     "text": [
      "100%|██████████| 9957/9957 [05:04<00:00, 32.70it/s]\n"
     ]
    }
   ],
   "source": [
    "out_embs = []\n",
    "for i in tqdm(range(len(df_movie))):\n",
    "    out_embs.append(model.encode(df_movie['description'][i]))"
   ]
  },
  {
   "cell_type": "code",
   "execution_count": 25,
   "metadata": {},
   "outputs": [
    {
     "data": {
      "text/plain": [
       "(9957, 9957)"
      ]
     },
     "execution_count": 25,
     "metadata": {},
     "output_type": "execute_result"
    }
   ],
   "source": [
    "sims_movies = cosine_similarity(out_embs)\n",
    "sims_movies.shape"
   ]
  },
  {
   "cell_type": "code",
   "execution_count": null,
   "metadata": {},
   "outputs": [],
   "source": [
    "df_embed_movie = pd.DataFrame(sims_movies, index=list(df_movie['title']), columns=list(df_movie['title']))\n",
    "df_embed_movie.to_csv(\"./movie_embed.csv\")"
   ]
  },
  {
   "cell_type": "code",
   "execution_count": 4,
   "metadata": {},
   "outputs": [
    {
     "data": {
      "text/html": [
       "<div>\n",
       "<style scoped>\n",
       "    .dataframe tbody tr th:only-of-type {\n",
       "        vertical-align: middle;\n",
       "    }\n",
       "\n",
       "    .dataframe tbody tr th {\n",
       "        vertical-align: top;\n",
       "    }\n",
       "\n",
       "    .dataframe thead th {\n",
       "        text-align: right;\n",
       "    }\n",
       "</style>\n",
       "<table border=\"1\" class=\"dataframe\">\n",
       "  <thead>\n",
       "    <tr style=\"text-align: right;\">\n",
       "      <th></th>\n",
       "      <th>Cobra Kai</th>\n",
       "      <th>The Crown</th>\n",
       "      <th>Better Call Saul</th>\n",
       "      <th>Devil in Ohio</th>\n",
       "      <th>Cyberpunk: Edgerunners</th>\n",
       "      <th>The Sandman</th>\n",
       "      <th>Rick and Morty</th>\n",
       "      <th>Breaking Bad</th>\n",
       "      <th>The Imperfects</th>\n",
       "      <th>Blonde</th>\n",
       "      <th>...</th>\n",
       "      <th>Black Mirror.1</th>\n",
       "      <th>Stranger Things.9</th>\n",
       "      <th>The Blacklist.1</th>\n",
       "      <th>American Horror Story.1</th>\n",
       "      <th>Breaking Bad.1</th>\n",
       "      <th>The Imperfects.1</th>\n",
       "      <th>The Walking Dead.1</th>\n",
       "      <th>The Crown.1</th>\n",
       "      <th>Supernatural.1</th>\n",
       "      <th>Devil in Ohio.1</th>\n",
       "    </tr>\n",
       "  </thead>\n",
       "  <tbody>\n",
       "    <tr>\n",
       "      <th>Cobra Kai</th>\n",
       "      <td>1.000000</td>\n",
       "      <td>0.476549</td>\n",
       "      <td>0.412925</td>\n",
       "      <td>0.260138</td>\n",
       "      <td>0.403860</td>\n",
       "      <td>0.437033</td>\n",
       "      <td>0.447603</td>\n",
       "      <td>0.367920</td>\n",
       "      <td>0.427957</td>\n",
       "      <td>0.361530</td>\n",
       "      <td>...</td>\n",
       "      <td>0.395536</td>\n",
       "      <td>0.366705</td>\n",
       "      <td>0.370170</td>\n",
       "      <td>0.315149</td>\n",
       "      <td>0.367920</td>\n",
       "      <td>0.427957</td>\n",
       "      <td>0.345574</td>\n",
       "      <td>0.476549</td>\n",
       "      <td>0.491659</td>\n",
       "      <td>0.260138</td>\n",
       "    </tr>\n",
       "    <tr>\n",
       "      <th>The Crown</th>\n",
       "      <td>0.476549</td>\n",
       "      <td>1.000000</td>\n",
       "      <td>0.448446</td>\n",
       "      <td>0.369892</td>\n",
       "      <td>0.376290</td>\n",
       "      <td>0.415047</td>\n",
       "      <td>0.419308</td>\n",
       "      <td>0.328568</td>\n",
       "      <td>0.367966</td>\n",
       "      <td>0.553723</td>\n",
       "      <td>...</td>\n",
       "      <td>0.448880</td>\n",
       "      <td>0.358069</td>\n",
       "      <td>0.453850</td>\n",
       "      <td>0.388434</td>\n",
       "      <td>0.328568</td>\n",
       "      <td>0.367966</td>\n",
       "      <td>0.289702</td>\n",
       "      <td>1.000000</td>\n",
       "      <td>0.381083</td>\n",
       "      <td>0.369892</td>\n",
       "    </tr>\n",
       "    <tr>\n",
       "      <th>Better Call Saul</th>\n",
       "      <td>0.412925</td>\n",
       "      <td>0.448446</td>\n",
       "      <td>1.000000</td>\n",
       "      <td>0.406432</td>\n",
       "      <td>0.450821</td>\n",
       "      <td>0.420502</td>\n",
       "      <td>0.501214</td>\n",
       "      <td>0.411600</td>\n",
       "      <td>0.451253</td>\n",
       "      <td>0.449341</td>\n",
       "      <td>...</td>\n",
       "      <td>0.479491</td>\n",
       "      <td>0.431189</td>\n",
       "      <td>0.512094</td>\n",
       "      <td>0.486132</td>\n",
       "      <td>0.411600</td>\n",
       "      <td>0.451253</td>\n",
       "      <td>0.448544</td>\n",
       "      <td>0.448446</td>\n",
       "      <td>0.479445</td>\n",
       "      <td>0.406432</td>\n",
       "    </tr>\n",
       "    <tr>\n",
       "      <th>Devil in Ohio</th>\n",
       "      <td>0.260138</td>\n",
       "      <td>0.369892</td>\n",
       "      <td>0.406432</td>\n",
       "      <td>1.000000</td>\n",
       "      <td>0.480438</td>\n",
       "      <td>0.543324</td>\n",
       "      <td>0.469884</td>\n",
       "      <td>0.427676</td>\n",
       "      <td>0.526741</td>\n",
       "      <td>0.500324</td>\n",
       "      <td>...</td>\n",
       "      <td>0.503693</td>\n",
       "      <td>0.510813</td>\n",
       "      <td>0.502193</td>\n",
       "      <td>0.515039</td>\n",
       "      <td>0.427676</td>\n",
       "      <td>0.526741</td>\n",
       "      <td>0.421578</td>\n",
       "      <td>0.369892</td>\n",
       "      <td>0.438784</td>\n",
       "      <td>1.000000</td>\n",
       "    </tr>\n",
       "    <tr>\n",
       "      <th>Cyberpunk: Edgerunners</th>\n",
       "      <td>0.403860</td>\n",
       "      <td>0.376290</td>\n",
       "      <td>0.450821</td>\n",
       "      <td>0.480438</td>\n",
       "      <td>1.000000</td>\n",
       "      <td>0.480117</td>\n",
       "      <td>0.610716</td>\n",
       "      <td>0.479592</td>\n",
       "      <td>0.496966</td>\n",
       "      <td>0.461166</td>\n",
       "      <td>...</td>\n",
       "      <td>0.633461</td>\n",
       "      <td>0.514668</td>\n",
       "      <td>0.472413</td>\n",
       "      <td>0.494139</td>\n",
       "      <td>0.479592</td>\n",
       "      <td>0.496966</td>\n",
       "      <td>0.488460</td>\n",
       "      <td>0.376290</td>\n",
       "      <td>0.488543</td>\n",
       "      <td>0.480438</td>\n",
       "    </tr>\n",
       "    <tr>\n",
       "      <th>...</th>\n",
       "      <td>...</td>\n",
       "      <td>...</td>\n",
       "      <td>...</td>\n",
       "      <td>...</td>\n",
       "      <td>...</td>\n",
       "      <td>...</td>\n",
       "      <td>...</td>\n",
       "      <td>...</td>\n",
       "      <td>...</td>\n",
       "      <td>...</td>\n",
       "      <td>...</td>\n",
       "      <td>...</td>\n",
       "      <td>...</td>\n",
       "      <td>...</td>\n",
       "      <td>...</td>\n",
       "      <td>...</td>\n",
       "      <td>...</td>\n",
       "      <td>...</td>\n",
       "      <td>...</td>\n",
       "      <td>...</td>\n",
       "      <td>...</td>\n",
       "    </tr>\n",
       "    <tr>\n",
       "      <th>The Imperfects</th>\n",
       "      <td>0.427957</td>\n",
       "      <td>0.367966</td>\n",
       "      <td>0.451253</td>\n",
       "      <td>0.526741</td>\n",
       "      <td>0.496966</td>\n",
       "      <td>0.525808</td>\n",
       "      <td>0.553276</td>\n",
       "      <td>0.513051</td>\n",
       "      <td>1.000000</td>\n",
       "      <td>0.421630</td>\n",
       "      <td>...</td>\n",
       "      <td>0.564654</td>\n",
       "      <td>0.527272</td>\n",
       "      <td>0.452812</td>\n",
       "      <td>0.426840</td>\n",
       "      <td>0.513051</td>\n",
       "      <td>1.000000</td>\n",
       "      <td>0.469471</td>\n",
       "      <td>0.367966</td>\n",
       "      <td>0.514908</td>\n",
       "      <td>0.526741</td>\n",
       "    </tr>\n",
       "    <tr>\n",
       "      <th>The Walking Dead</th>\n",
       "      <td>0.345574</td>\n",
       "      <td>0.289702</td>\n",
       "      <td>0.448544</td>\n",
       "      <td>0.421578</td>\n",
       "      <td>0.488460</td>\n",
       "      <td>0.443215</td>\n",
       "      <td>0.460041</td>\n",
       "      <td>0.450572</td>\n",
       "      <td>0.469471</td>\n",
       "      <td>0.372353</td>\n",
       "      <td>...</td>\n",
       "      <td>0.426768</td>\n",
       "      <td>0.460214</td>\n",
       "      <td>0.454757</td>\n",
       "      <td>0.452918</td>\n",
       "      <td>0.450572</td>\n",
       "      <td>0.469471</td>\n",
       "      <td>1.000000</td>\n",
       "      <td>0.289702</td>\n",
       "      <td>0.418244</td>\n",
       "      <td>0.421578</td>\n",
       "    </tr>\n",
       "    <tr>\n",
       "      <th>The Crown</th>\n",
       "      <td>0.476549</td>\n",
       "      <td>1.000000</td>\n",
       "      <td>0.448446</td>\n",
       "      <td>0.369892</td>\n",
       "      <td>0.376290</td>\n",
       "      <td>0.415047</td>\n",
       "      <td>0.419308</td>\n",
       "      <td>0.328568</td>\n",
       "      <td>0.367966</td>\n",
       "      <td>0.553723</td>\n",
       "      <td>...</td>\n",
       "      <td>0.448880</td>\n",
       "      <td>0.358069</td>\n",
       "      <td>0.453850</td>\n",
       "      <td>0.388434</td>\n",
       "      <td>0.328568</td>\n",
       "      <td>0.367966</td>\n",
       "      <td>0.289702</td>\n",
       "      <td>1.000000</td>\n",
       "      <td>0.381083</td>\n",
       "      <td>0.369892</td>\n",
       "    </tr>\n",
       "    <tr>\n",
       "      <th>Supernatural</th>\n",
       "      <td>0.491659</td>\n",
       "      <td>0.381083</td>\n",
       "      <td>0.479445</td>\n",
       "      <td>0.438784</td>\n",
       "      <td>0.488543</td>\n",
       "      <td>0.465054</td>\n",
       "      <td>0.516167</td>\n",
       "      <td>0.406114</td>\n",
       "      <td>0.514908</td>\n",
       "      <td>0.391458</td>\n",
       "      <td>...</td>\n",
       "      <td>0.507376</td>\n",
       "      <td>0.549888</td>\n",
       "      <td>0.392903</td>\n",
       "      <td>0.462471</td>\n",
       "      <td>0.406114</td>\n",
       "      <td>0.514908</td>\n",
       "      <td>0.418244</td>\n",
       "      <td>0.381083</td>\n",
       "      <td>1.000000</td>\n",
       "      <td>0.438784</td>\n",
       "    </tr>\n",
       "    <tr>\n",
       "      <th>Devil in Ohio</th>\n",
       "      <td>0.260138</td>\n",
       "      <td>0.369892</td>\n",
       "      <td>0.406432</td>\n",
       "      <td>1.000000</td>\n",
       "      <td>0.480438</td>\n",
       "      <td>0.543324</td>\n",
       "      <td>0.469884</td>\n",
       "      <td>0.427676</td>\n",
       "      <td>0.526741</td>\n",
       "      <td>0.500324</td>\n",
       "      <td>...</td>\n",
       "      <td>0.503693</td>\n",
       "      <td>0.510813</td>\n",
       "      <td>0.502193</td>\n",
       "      <td>0.515039</td>\n",
       "      <td>0.427676</td>\n",
       "      <td>0.526741</td>\n",
       "      <td>0.421578</td>\n",
       "      <td>0.369892</td>\n",
       "      <td>0.438784</td>\n",
       "      <td>1.000000</td>\n",
       "    </tr>\n",
       "  </tbody>\n",
       "</table>\n",
       "<p>9957 rows × 9957 columns</p>\n",
       "</div>"
      ],
      "text/plain": [
       "                        Cobra Kai  The Crown  Better Call Saul  Devil in Ohio  \\\n",
       "Cobra Kai                1.000000   0.476549          0.412925       0.260138   \n",
       "The Crown                0.476549   1.000000          0.448446       0.369892   \n",
       "Better Call Saul         0.412925   0.448446          1.000000       0.406432   \n",
       "Devil in Ohio            0.260138   0.369892          0.406432       1.000000   \n",
       "Cyberpunk: Edgerunners   0.403860   0.376290          0.450821       0.480438   \n",
       "...                           ...        ...               ...            ...   \n",
       "The Imperfects           0.427957   0.367966          0.451253       0.526741   \n",
       "The Walking Dead         0.345574   0.289702          0.448544       0.421578   \n",
       "The Crown                0.476549   1.000000          0.448446       0.369892   \n",
       "Supernatural             0.491659   0.381083          0.479445       0.438784   \n",
       "Devil in Ohio            0.260138   0.369892          0.406432       1.000000   \n",
       "\n",
       "                        Cyberpunk: Edgerunners  The Sandman  Rick and Morty  \\\n",
       "Cobra Kai                             0.403860     0.437033        0.447603   \n",
       "The Crown                             0.376290     0.415047        0.419308   \n",
       "Better Call Saul                      0.450821     0.420502        0.501214   \n",
       "Devil in Ohio                         0.480438     0.543324        0.469884   \n",
       "Cyberpunk: Edgerunners                1.000000     0.480117        0.610716   \n",
       "...                                        ...          ...             ...   \n",
       "The Imperfects                        0.496966     0.525808        0.553276   \n",
       "The Walking Dead                      0.488460     0.443215        0.460041   \n",
       "The Crown                             0.376290     0.415047        0.419308   \n",
       "Supernatural                          0.488543     0.465054        0.516167   \n",
       "Devil in Ohio                         0.480438     0.543324        0.469884   \n",
       "\n",
       "                        Breaking Bad  The Imperfects    Blonde  ...  \\\n",
       "Cobra Kai                   0.367920        0.427957  0.361530  ...   \n",
       "The Crown                   0.328568        0.367966  0.553723  ...   \n",
       "Better Call Saul            0.411600        0.451253  0.449341  ...   \n",
       "Devil in Ohio               0.427676        0.526741  0.500324  ...   \n",
       "Cyberpunk: Edgerunners      0.479592        0.496966  0.461166  ...   \n",
       "...                              ...             ...       ...  ...   \n",
       "The Imperfects              0.513051        1.000000  0.421630  ...   \n",
       "The Walking Dead            0.450572        0.469471  0.372353  ...   \n",
       "The Crown                   0.328568        0.367966  0.553723  ...   \n",
       "Supernatural                0.406114        0.514908  0.391458  ...   \n",
       "Devil in Ohio               0.427676        0.526741  0.500324  ...   \n",
       "\n",
       "                        Black Mirror.1  Stranger Things.9  The Blacklist.1  \\\n",
       "Cobra Kai                     0.395536           0.366705         0.370170   \n",
       "The Crown                     0.448880           0.358069         0.453850   \n",
       "Better Call Saul              0.479491           0.431189         0.512094   \n",
       "Devil in Ohio                 0.503693           0.510813         0.502193   \n",
       "Cyberpunk: Edgerunners        0.633461           0.514668         0.472413   \n",
       "...                                ...                ...              ...   \n",
       "The Imperfects                0.564654           0.527272         0.452812   \n",
       "The Walking Dead              0.426768           0.460214         0.454757   \n",
       "The Crown                     0.448880           0.358069         0.453850   \n",
       "Supernatural                  0.507376           0.549888         0.392903   \n",
       "Devil in Ohio                 0.503693           0.510813         0.502193   \n",
       "\n",
       "                        American Horror Story.1  Breaking Bad.1  \\\n",
       "Cobra Kai                              0.315149        0.367920   \n",
       "The Crown                              0.388434        0.328568   \n",
       "Better Call Saul                       0.486132        0.411600   \n",
       "Devil in Ohio                          0.515039        0.427676   \n",
       "Cyberpunk: Edgerunners                 0.494139        0.479592   \n",
       "...                                         ...             ...   \n",
       "The Imperfects                         0.426840        0.513051   \n",
       "The Walking Dead                       0.452918        0.450572   \n",
       "The Crown                              0.388434        0.328568   \n",
       "Supernatural                           0.462471        0.406114   \n",
       "Devil in Ohio                          0.515039        0.427676   \n",
       "\n",
       "                        The Imperfects.1  The Walking Dead.1  The Crown.1  \\\n",
       "Cobra Kai                       0.427957            0.345574     0.476549   \n",
       "The Crown                       0.367966            0.289702     1.000000   \n",
       "Better Call Saul                0.451253            0.448544     0.448446   \n",
       "Devil in Ohio                   0.526741            0.421578     0.369892   \n",
       "Cyberpunk: Edgerunners          0.496966            0.488460     0.376290   \n",
       "...                                  ...                 ...          ...   \n",
       "The Imperfects                  1.000000            0.469471     0.367966   \n",
       "The Walking Dead                0.469471            1.000000     0.289702   \n",
       "The Crown                       0.367966            0.289702     1.000000   \n",
       "Supernatural                    0.514908            0.418244     0.381083   \n",
       "Devil in Ohio                   0.526741            0.421578     0.369892   \n",
       "\n",
       "                        Supernatural.1  Devil in Ohio.1  \n",
       "Cobra Kai                     0.491659         0.260138  \n",
       "The Crown                     0.381083         0.369892  \n",
       "Better Call Saul              0.479445         0.406432  \n",
       "Devil in Ohio                 0.438784         1.000000  \n",
       "Cyberpunk: Edgerunners        0.488543         0.480438  \n",
       "...                                ...              ...  \n",
       "The Imperfects                0.514908         0.526741  \n",
       "The Walking Dead              0.418244         0.421578  \n",
       "The Crown                     0.381083         0.369892  \n",
       "Supernatural                  1.000000         0.438784  \n",
       "Devil in Ohio                 0.438784         1.000000  \n",
       "\n",
       "[9957 rows x 9957 columns]"
      ]
     },
     "execution_count": 4,
     "metadata": {},
     "output_type": "execute_result"
    }
   ],
   "source": [
    "df_embed_movie = pd.read_csv(\"./movie_embed.csv\", index_col=0)\n",
    "df_embed_movie"
   ]
  },
  {
   "cell_type": "code",
   "execution_count": 6,
   "metadata": {},
   "outputs": [
    {
     "name": "stdout",
     "output_type": "stream",
     "text": [
      "* Running on local URL:  http://127.0.0.1:7860\n",
      "\n",
      "To create a public link, set `share=True` in `launch()`.\n"
     ]
    },
    {
     "data": {
      "text/html": [
       "<div><iframe src=\"http://127.0.0.1:7860/\" width=\"100%\" height=\"500\" allow=\"autoplay; camera; microphone; clipboard-read; clipboard-write;\" frameborder=\"0\" allowfullscreen></iframe></div>"
      ],
      "text/plain": [
       "<IPython.core.display.HTML object>"
      ]
     },
     "metadata": {},
     "output_type": "display_data"
    },
    {
     "data": {
      "text/plain": []
     },
     "execution_count": 6,
     "metadata": {},
     "output_type": "execute_result"
    }
   ],
   "source": [
    "import gradio\n",
    "\n",
    "def recommend_movies(movie):\n",
    "    titles = list(df_embed_movie[movie].sort_values(ascending=False)[1:6].index)\n",
    "    descs = []\n",
    "    for title in titles:\n",
    "        descs.append(df_movie[df_movie['title']==title]['description'].values[0])\n",
    "    return titles, descs\n",
    "\n",
    "iface = gradio.Interface(fn=recommend_movies, \n",
    "                         inputs=[gradio.Textbox(lines=2, label=\"Movie\")], \n",
    "                         outputs=[gradio.Textbox(label=\"Recommended Movies\"),\n",
    "                                    gradio.Textbox(label=\"Descriptions\")],\n",
    "                         title=\"Movie Recommender\")\n",
    "iface.launch()"
   ]
  },
  {
   "cell_type": "code",
   "execution_count": 5,
   "metadata": {},
   "outputs": [],
   "source": [
    "from sklearn.metrics import silhouette_score\n",
    "from sklearn.cluster import KMeans"
   ]
  },
  {
   "cell_type": "code",
   "execution_count": 6,
   "metadata": {},
   "outputs": [
    {
     "data": {
      "text/plain": [
       "0.13473585952163644"
      ]
     },
     "execution_count": 6,
     "metadata": {},
     "output_type": "execute_result"
    }
   ],
   "source": [
    "km = KMeans(n_clusters=5)\n",
    "km.fit(df_embed_movie)\n",
    "silhouette_score(df_embed_movie, km.labels_)\n"
   ]
  },
  {
   "cell_type": "code",
   "execution_count": 8,
   "metadata": {},
   "outputs": [
    {
     "name": "stderr",
     "output_type": "stream",
     "text": [
      "c:\\Users\\dbda.STUDENTSDC\\AppData\\Local\\anaconda3\\envs\\dung\\lib\\site-packages\\sklearn\\base.py:493: UserWarning: X does not have valid feature names, but PCA was fitted with feature names\n",
      "  warnings.warn(\n"
     ]
    },
    {
     "data": {
      "image/png": "[encoded data removed]",
      "text/plain": [
       "<Figure size 640x480 with 1 Axes>"
      ]
     },
     "metadata": {},
     "output_type": "display_data"
    }
   ],
   "source": [
    "# plot the clusters\n",
    "import matplotlib.pyplot as plt\n",
    "from sklearn.decomposition import PCA\n",
    "\n",
    "pca = PCA(n_components=2)\n",
    "pca.fit(df_embed_movie)\n",
    "X = pca.transform(df_embed_movie)\n",
    "\n",
    "plt.scatter(X[:, 0], X[:, 1], c=km.labels_, cmap='viridis')\n",
    "plt.xlabel(\"PCA 1\")\n",
    "plt.ylabel(\"PCA 2\")\n",
    "plt.title(\"KMeans Clusters\")\n",
    "\n",
    "# draw cluster centers\n",
    "centers = pca.transform(km.cluster_centers_)\n",
    "plt.scatter(centers[:, 0], centers[:, 1], c='red', s=200, alpha=0.75)\n",
    "plt.show()"
   ]
  },
  {
   "cell_type": "code",
   "execution_count": 9,
   "metadata": {},
   "outputs": [
    {
     "data": {
      "application/vnd.jupyter.widget-view+json": {
       "model_id": "8da6fa1ab37b4e07ae5f0ddb35b0658b",
       "version_major": 2,
       "version_minor": 0
      },
      "text/plain": [
       "config.json:   0%|          | 0.00/473 [00:00<?, ?B/s]"
      ]
     },
     "metadata": {},
     "output_type": "display_data"
    },
    {
     "name": "stderr",
     "output_type": "stream",
     "text": [
      "c:\\Users\\dbda.STUDENTSDC\\AppData\\Local\\anaconda3\\envs\\dung\\lib\\site-packages\\huggingface_hub\\file_download.py:139: UserWarning: `huggingface_hub` cache-system uses symlinks by default to efficiently store duplicated files but your machine does not support them in C:\\Users\\dbda.STUDENTSDC\\.cache\\huggingface\\hub\\models--distilbert--distilbert-base-cased-distilled-squad. Caching files will still work but in a degraded version that might require more space on your disk. This warning can be disabled by setting the `HF_HUB_DISABLE_SYMLINKS_WARNING` environment variable. For more details, see https://huggingface.co/docs/huggingface_hub/how-to-cache#limitations.\n",
      "To support symlinks on Windows, you either need to activate Developer Mode or to run Python as an administrator. In order to activate developer mode, see this article: https://docs.microsoft.com/en-us/windows/apps/get-started/enable-your-device-for-development\n",
      "  warnings.warn(message)\n"
     ]
    },
    {
     "data": {
      "application/vnd.jupyter.widget-view+json": {
       "model_id": "976cd04fab3643b1b1236294c435d5e8",
       "version_major": 2,
       "version_minor": 0
      },
      "text/plain": [
       "model.safetensors:   0%|          | 0.00/261M [00:00<?, ?B/s]"
      ]
     },
     "metadata": {},
     "output_type": "display_data"
    },
    {
     "data": {
      "application/vnd.jupyter.widget-view+json": {
       "model_id": "42a277fa2f8848d5bab0cfe802eea68c",
       "version_major": 2,
       "version_minor": 0
      },
      "text/plain": [
       "tokenizer_config.json:   0%|          | 0.00/49.0 [00:00<?, ?B/s]"
      ]
     },
     "metadata": {},
     "output_type": "display_data"
    },
    {
     "data": {
      "application/vnd.jupyter.widget-view+json": {
       "model_id": "b59097e8f5dd4cd59582ce7cea95f8fe",
       "version_major": 2,
       "version_minor": 0
      },
      "text/plain": [
       "vocab.txt:   0%|          | 0.00/213k [00:00<?, ?B/s]"
      ]
     },
     "metadata": {},
     "output_type": "display_data"
    },
    {
     "data": {
      "application/vnd.jupyter.widget-view+json": {
       "model_id": "17fcfde31c404d6b8d125e32f76d2396",
       "version_major": 2,
       "version_minor": 0
      },
      "text/plain": [
       "tokenizer.json:   0%|          | 0.00/436k [00:00<?, ?B/s]"
      ]
     },
     "metadata": {},
     "output_type": "display_data"
    },
    {
     "name": "stderr",
     "output_type": "stream",
     "text": [
      "c:\\Users\\dbda.STUDENTSDC\\AppData\\Local\\anaconda3\\envs\\dung\\lib\\site-packages\\transformers\\pipelines\\question_answering.py:391: FutureWarning: Passing a list of SQuAD examples to the pipeline is deprecated and will be removed in v5. Inputs should be passed using the `question` and `context` keyword arguments instead.\n",
      "  warnings.warn(\n"
     ]
    },
    {
     "data": {
      "text/plain": [
       "{'score': 0.8756684064865112,\n",
       " 'start': 239,\n",
       " 'end': 254,\n",
       " 'answer': 'Austrian Empire'}"
      ]
     },
     "execution_count": 9,
     "metadata": {},
     "output_type": "execute_result"
    }
   ],
   "source": [
    "from transformers import pipeline\n",
    "\n",
    "qa = pipeline(\"question-answering\", \n",
    "              model=\"distilbert/distilbert-base-cased-distilled-squad\")\n",
    "              \n",
    "              \n",
    "              \n",
    "ctx = \"\"\"Nikola Tesla (10 July 1856 – 7 January 1943) was a Serbian-American engineer, futurist, and inventor. He is known for his contributions to the design of the modern alternating current (AC) electricity supply system.\n",
    "Born and raised in the Austrian Empire, Tesla first studied engineering and physics in the 1870s without receiving a degree. He then gained practical experience in the early 1880s working in telephony and at Continental Edison in the new electric power industry. In 1884 he immigrated to the United States, where he became a naturalized citizen. He worked for a short time at the Edison Machine Works in New York City before he struck out on his own. With the help of partners to finance and market his ideas, Tesla set up laboratories and companies in New York to develop a range of electrical and mechanical devices. His AC induction motor and related polyphase AC patents, licensed by Westinghouse Electric in 1888, earned him a considerable amount of money and became the cornerstone of the polyphase system which that company eventually marketed.\n",
    "\n",
    "Attempting to develop inventions he could patent and market, Tesla conducted a range of experiments with mechanical oscillators/generators, electrical discharge tubes, and early X-ray imaging. He also built a wirelessly controlled boat, one of the first ever exhibited. Tesla became well known as an inventor and demonstrated his achievements to celebrities and wealthy patrons at his lab, and was noted for his showmanship at public lectures. Throughout the 1890s, Tesla pursued his ideas for wireless lighting and worldwide wireless electric power distribution in his high-voltage, high-frequency power experiments in New York and Colorado Springs. In 1893, he made pronouncements on the possibility of wireless communication with his devices. Tesla tried to put these ideas to practical use in his unfinished Wardenclyffe Tower project, an intercontinental wireless communication and power transmitter, but ran out of funding before he could complete it.\n",
    "\"\"\"\n",
    "\n",
    "qa({\n",
    "    \"question\": \"Where was Nikola Tesla born?\",\n",
    "    \"context\": ctx\n",
    "})"
   ]
  }
 ],
 "metadata": {
  "kernelspec": {
   "display_name": "dung",
   "language": "python",
   "name": "python3"
  },
  "language_info": {
   "codemirror_mode": {
    "name": "ipython",
    "version": 3
   },
   "file_extension": ".py",
   "mimetype": "text/x-python",
   "name": "python",
   "nbconvert_exporter": "python",
   "pygments_lexer": "ipython3",
   "version": "3.10.15"
  }
 },
 "nbformat": 4,
 "nbformat_minor": 2
}
